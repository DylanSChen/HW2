{
 "cells": [
  {
   "cell_type": "code",
   "execution_count": 3,
   "id": "e84480d4-9c52-4036-bb92-32a668499a27",
   "metadata": {},
   "outputs": [],
   "source": [
    "import pandas as pd\n",
    "import sqlite3"
   ]
  },
  {
   "cell_type": "code",
   "execution_count": 4,
   "id": "23f8e7c0-7a09-49d5-9dd1-d0a7325da4b5",
   "metadata": {},
   "outputs": [
    {
     "data": {
      "text/html": [
       "<div>\n",
       "<style scoped>\n",
       "    .dataframe tbody tr th:only-of-type {\n",
       "        vertical-align: middle;\n",
       "    }\n",
       "\n",
       "    .dataframe tbody tr th {\n",
       "        vertical-align: top;\n",
       "    }\n",
       "\n",
       "    .dataframe thead th {\n",
       "        text-align: right;\n",
       "    }\n",
       "</style>\n",
       "<table border=\"1\" class=\"dataframe\">\n",
       "  <thead>\n",
       "    <tr style=\"text-align: right;\">\n",
       "      <th></th>\n",
       "      <th>actor</th>\n",
       "      <th>movie_or_TV_name</th>\n",
       "    </tr>\n",
       "  </thead>\n",
       "  <tbody>\n",
       "    <tr>\n",
       "      <th>0</th>\n",
       "      <td>Natalie Portman</td>\n",
       "      <td>Lady in the Lake</td>\n",
       "    </tr>\n",
       "    <tr>\n",
       "      <th>1</th>\n",
       "      <td>Natalie Portman</td>\n",
       "      <td>Foxy Trotter</td>\n",
       "    </tr>\n",
       "    <tr>\n",
       "      <th>2</th>\n",
       "      <td>Natalie Portman</td>\n",
       "      <td>May December</td>\n",
       "    </tr>\n",
       "    <tr>\n",
       "      <th>3</th>\n",
       "      <td>Natalie Portman</td>\n",
       "      <td>Bronco Belle</td>\n",
       "    </tr>\n",
       "    <tr>\n",
       "      <th>4</th>\n",
       "      <td>Natalie Portman</td>\n",
       "      <td>Secrets of the Elephants</td>\n",
       "    </tr>\n",
       "    <tr>\n",
       "      <th>...</th>\n",
       "      <td>...</td>\n",
       "      <td>...</td>\n",
       "    </tr>\n",
       "    <tr>\n",
       "      <th>2610</th>\n",
       "      <td>Sinéad Cusack</td>\n",
       "      <td>The Ballad of Tam Lin</td>\n",
       "    </tr>\n",
       "    <tr>\n",
       "      <th>2611</th>\n",
       "      <td>Sinéad Cusack</td>\n",
       "      <td>The Rise and Rise of Michael Rimmer</td>\n",
       "    </tr>\n",
       "    <tr>\n",
       "      <th>2612</th>\n",
       "      <td>Sinéad Cusack</td>\n",
       "      <td>Menace</td>\n",
       "    </tr>\n",
       "    <tr>\n",
       "      <th>2613</th>\n",
       "      <td>Sinéad Cusack</td>\n",
       "      <td>Hoffman</td>\n",
       "    </tr>\n",
       "    <tr>\n",
       "      <th>2614</th>\n",
       "      <td>Sinéad Cusack</td>\n",
       "      <td>David Copperfield</td>\n",
       "    </tr>\n",
       "  </tbody>\n",
       "</table>\n",
       "<p>2615 rows × 2 columns</p>\n",
       "</div>"
      ],
      "text/plain": [
       "                actor                     movie_or_TV_name\n",
       "0     Natalie Portman                     Lady in the Lake\n",
       "1     Natalie Portman                         Foxy Trotter\n",
       "2     Natalie Portman                         May December\n",
       "3     Natalie Portman                         Bronco Belle\n",
       "4     Natalie Portman             Secrets of the Elephants\n",
       "...               ...                                  ...\n",
       "2610    Sinéad Cusack                The Ballad of Tam Lin\n",
       "2611    Sinéad Cusack  The Rise and Rise of Michael Rimmer\n",
       "2612    Sinéad Cusack                               Menace\n",
       "2613    Sinéad Cusack                              Hoffman\n",
       "2614    Sinéad Cusack                    David Copperfield\n",
       "\n",
       "[2615 rows x 2 columns]"
      ]
     },
     "execution_count": 4,
     "metadata": {},
     "output_type": "execute_result"
    }
   ],
   "source": [
    "df = pd.read_csv(\"results.csv\")\n",
    "df"
   ]
  },
  {
   "cell_type": "code",
   "execution_count": 9,
   "id": "95a929d7-c605-44a2-b415-ae057590393a",
   "metadata": {},
   "outputs": [
    {
     "data": {
      "text/plain": [
       "2615"
      ]
     },
     "execution_count": 9,
     "metadata": {},
     "output_type": "execute_result"
    }
   ],
   "source": [
    "conn = sqlite3.connect(\"actor_movie_TV.db\")\n",
    "df.to_sql(\"actor_movie_table\", conn, index = False, if_exists = 'replace')"
   ]
  },
  {
   "cell_type": "code",
   "execution_count": 46,
   "id": "0fa108eb-9765-4a36-8484-af2f4f84e01b",
   "metadata": {},
   "outputs": [
    {
     "data": {
      "text/html": [
       "<div>\n",
       "<style scoped>\n",
       "    .dataframe tbody tr th:only-of-type {\n",
       "        vertical-align: middle;\n",
       "    }\n",
       "\n",
       "    .dataframe tbody tr th {\n",
       "        vertical-align: top;\n",
       "    }\n",
       "\n",
       "    .dataframe thead th {\n",
       "        text-align: right;\n",
       "    }\n",
       "</style>\n",
       "<table border=\"1\" class=\"dataframe\">\n",
       "  <thead>\n",
       "    <tr style=\"text-align: right;\">\n",
       "      <th></th>\n",
       "      <th>Movie/TV Name</th>\n",
       "      <th>Number of Shared Actors</th>\n",
       "    </tr>\n",
       "  </thead>\n",
       "  <tbody>\n",
       "    <tr>\n",
       "      <th>1</th>\n",
       "      <td>Midsomer Murders</td>\n",
       "      <td>9</td>\n",
       "    </tr>\n",
       "    <tr>\n",
       "      <th>2</th>\n",
       "      <td>Waking the Dead</td>\n",
       "      <td>8</td>\n",
       "    </tr>\n",
       "    <tr>\n",
       "      <th>3</th>\n",
       "      <td>The Bill</td>\n",
       "      <td>7</td>\n",
       "    </tr>\n",
       "    <tr>\n",
       "      <th>4</th>\n",
       "      <td>Peak Practice</td>\n",
       "      <td>7</td>\n",
       "    </tr>\n",
       "    <tr>\n",
       "      <th>5</th>\n",
       "      <td>Casualty</td>\n",
       "      <td>7</td>\n",
       "    </tr>\n",
       "    <tr>\n",
       "      <th>6</th>\n",
       "      <td>Agatha Christie's Poirot</td>\n",
       "      <td>7</td>\n",
       "    </tr>\n",
       "    <tr>\n",
       "      <th>7</th>\n",
       "      <td>Hustle</td>\n",
       "      <td>6</td>\n",
       "    </tr>\n",
       "    <tr>\n",
       "      <th>8</th>\n",
       "      <td>Heartbeat</td>\n",
       "      <td>6</td>\n",
       "    </tr>\n",
       "    <tr>\n",
       "      <th>9</th>\n",
       "      <td>Doctor Who</td>\n",
       "      <td>6</td>\n",
       "    </tr>\n",
       "    <tr>\n",
       "      <th>10</th>\n",
       "      <td>The Crystal Cube</td>\n",
       "      <td>5</td>\n",
       "    </tr>\n",
       "  </tbody>\n",
       "</table>\n",
       "</div>"
      ],
      "text/plain": [
       "               Movie/TV Name  Number of Shared Actors\n",
       "1           Midsomer Murders                        9\n",
       "2            Waking the Dead                        8\n",
       "3                   The Bill                        7\n",
       "4              Peak Practice                        7\n",
       "5                   Casualty                        7\n",
       "6   Agatha Christie's Poirot                        7\n",
       "7                     Hustle                        6\n",
       "8                  Heartbeat                        6\n",
       "9                 Doctor Who                        6\n",
       "10          The Crystal Cube                        5"
      ]
     },
     "execution_count": 46,
     "metadata": {},
     "output_type": "execute_result"
    }
   ],
   "source": [
    "cmd = \\\n",
    "\"\"\"\n",
    "SELECT \n",
    "    amt.movie_or_TV_name AS \"Movie/TV Name\",\n",
    "    COUNT(amt.actor) AS \"Number of Shared Actors\"\n",
    "FROM actor_movie_table amt\n",
    "GROUP BY amt.movie_or_TV_name\n",
    "HAVING COUNT(amt.actor) >=2\n",
    "ORDER BY COUNT(amt.actor) DESC\n",
    "\"\"\"\n",
    "df2 = pd.read_sql(cmd, conn)\n",
    "df2 = df2.iloc[1:,:].head(10)\n",
    "df2"
   ]
  },
  {
   "cell_type": "code",
   "execution_count": 47,
   "id": "d13c0d2c-7576-4ab5-8b46-3edd78db0e68",
   "metadata": {},
   "outputs": [
    {
     "data": {
      "text/plain": [
       "<AxesSubplot:title={'center':\"Movies of most shared actors with 'V for Vendetta'\"}, xlabel='Movie/TV Name'>"
      ]
     },
     "execution_count": 47,
     "metadata": {},
     "output_type": "execute_result"
    },
    {
     "data": {
      "image/png": "[encoded data removed]",
      "text/plain": [
       "<Figure size 432x288 with 1 Axes>"
      ]
     },
     "metadata": {
      "needs_background": "light"
     },
     "output_type": "display_data"
    }
   ],
   "source": [
    "df2.plot.bar(x = \"Movie/TV Name\", \n",
    "             y = \"Number of Shared Actors\",\n",
    "             title = \"Movies of most shared actors with 'V for Vendetta'\")"
   ]
  }
 ],
 "metadata": {
  "kernelspec": {
   "display_name": "Python 3 (ipykernel)",
   "language": "python",
   "name": "python3"
  },
  "language_info": {
   "codemirror_mode": {
    "name": "ipython",
    "version": 3
   },
   "file_extension": ".py",
   "mimetype": "text/x-python",
   "name": "python",
   "nbconvert_exporter": "python",
   "pygments_lexer": "ipython3",
   "version": "3.9.7"
  }
 },
 "nbformat": 4,
 "nbformat_minor": 5
}
